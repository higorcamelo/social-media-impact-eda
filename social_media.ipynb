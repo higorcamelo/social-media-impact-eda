{
 "cells": [
  {
   "cell_type": "code",
   "execution_count": 93,
   "id": "5e0de153",
   "metadata": {},
   "outputs": [],
   "source": [
    "import kagglehub\n",
    "from kagglehub import KaggleDatasetAdapter"
   ]
  },
  {
   "cell_type": "code",
   "execution_count": 94,
   "id": "178e22a4",
   "metadata": {},
   "outputs": [
    {
     "name": "stderr",
     "output_type": "stream",
     "text": [
      "C:\\Users\\higor\\AppData\\Local\\Temp\\ipykernel_5292\\1907027664.py:2: DeprecationWarning: load_dataset is deprecated and will be removed in a future version.\n",
      "  df = kagglehub.load_dataset(\n"
     ]
    }
   ],
   "source": [
    "file_path = \"social_media_vs_productivity.csv\"\n",
    "df = kagglehub.load_dataset(\n",
    "  KaggleDatasetAdapter.PANDAS,\n",
    "  \"mahdimashayekhi/social-media-vs-productivity\",\n",
    "  file_path,\n",
    ")\n"
   ]
  },
  {
   "cell_type": "code",
   "execution_count": 103,
   "id": "98745f12",
   "metadata": {},
   "outputs": [
    {
     "data": {
      "text/html": [
       "<div>\n",
       "<style scoped>\n",
       "    .dataframe tbody tr th:only-of-type {\n",
       "        vertical-align: middle;\n",
       "    }\n",
       "\n",
       "    .dataframe tbody tr th {\n",
       "        vertical-align: top;\n",
       "    }\n",
       "\n",
       "    .dataframe thead th {\n",
       "        text-align: right;\n",
       "    }\n",
       "</style>\n",
       "<table border=\"1\" class=\"dataframe\">\n",
       "  <thead>\n",
       "    <tr style=\"text-align: right;\">\n",
       "      <th></th>\n",
       "      <th>age</th>\n",
       "      <th>gender</th>\n",
       "      <th>job_type</th>\n",
       "      <th>daily_social_media_time</th>\n",
       "      <th>social_platform_preference</th>\n",
       "      <th>number_of_notifications</th>\n",
       "      <th>work_hours_per_day</th>\n",
       "      <th>perceived_productivity_score</th>\n",
       "      <th>actual_productivity_score</th>\n",
       "      <th>stress_level</th>\n",
       "      <th>sleep_hours</th>\n",
       "      <th>screen_time_before_sleep</th>\n",
       "      <th>breaks_during_work</th>\n",
       "      <th>uses_focus_apps</th>\n",
       "      <th>has_digital_wellbeing_enabled</th>\n",
       "      <th>coffee_consumption_per_day</th>\n",
       "      <th>days_feeling_burnout_per_month</th>\n",
       "      <th>weekly_offline_hours</th>\n",
       "      <th>job_satisfaction_score</th>\n",
       "    </tr>\n",
       "  </thead>\n",
       "  <tbody>\n",
       "    <tr>\n",
       "      <th>0</th>\n",
       "      <td>56</td>\n",
       "      <td>Male</td>\n",
       "      <td>Unemployed</td>\n",
       "      <td>4.2</td>\n",
       "      <td>Facebook</td>\n",
       "      <td>61</td>\n",
       "      <td>6.8</td>\n",
       "      <td>8.0</td>\n",
       "      <td>7.3</td>\n",
       "      <td>4.0</td>\n",
       "      <td>5.1</td>\n",
       "      <td>0.4</td>\n",
       "      <td>8</td>\n",
       "      <td>False</td>\n",
       "      <td>False</td>\n",
       "      <td>4</td>\n",
       "      <td>11</td>\n",
       "      <td>21.9</td>\n",
       "      <td>6.3</td>\n",
       "    </tr>\n",
       "    <tr>\n",
       "      <th>1</th>\n",
       "      <td>46</td>\n",
       "      <td>Male</td>\n",
       "      <td>Health</td>\n",
       "      <td>3.2</td>\n",
       "      <td>Twitter</td>\n",
       "      <td>59</td>\n",
       "      <td>9.2</td>\n",
       "      <td>5.1</td>\n",
       "      <td>5.2</td>\n",
       "      <td>7.0</td>\n",
       "      <td>5.1</td>\n",
       "      <td>0.7</td>\n",
       "      <td>7</td>\n",
       "      <td>True</td>\n",
       "      <td>True</td>\n",
       "      <td>2</td>\n",
       "      <td>25</td>\n",
       "      <td>0.0</td>\n",
       "      <td>3.4</td>\n",
       "    </tr>\n",
       "    <tr>\n",
       "      <th>2</th>\n",
       "      <td>32</td>\n",
       "      <td>Male</td>\n",
       "      <td>Finance</td>\n",
       "      <td>3.0</td>\n",
       "      <td>Twitter</td>\n",
       "      <td>57</td>\n",
       "      <td>7.9</td>\n",
       "      <td>3.9</td>\n",
       "      <td>3.5</td>\n",
       "      <td>4.0</td>\n",
       "      <td>8.6</td>\n",
       "      <td>0.6</td>\n",
       "      <td>0</td>\n",
       "      <td>True</td>\n",
       "      <td>False</td>\n",
       "      <td>3</td>\n",
       "      <td>17</td>\n",
       "      <td>10.3</td>\n",
       "      <td>2.5</td>\n",
       "    </tr>\n",
       "    <tr>\n",
       "      <th>3</th>\n",
       "      <td>60</td>\n",
       "      <td>Female</td>\n",
       "      <td>Unemployed</td>\n",
       "      <td>3.0</td>\n",
       "      <td>Facebook</td>\n",
       "      <td>59</td>\n",
       "      <td>6.4</td>\n",
       "      <td>2.9</td>\n",
       "      <td>1.8</td>\n",
       "      <td>6.0</td>\n",
       "      <td>6.1</td>\n",
       "      <td>1.2</td>\n",
       "      <td>1</td>\n",
       "      <td>False</td>\n",
       "      <td>False</td>\n",
       "      <td>0</td>\n",
       "      <td>4</td>\n",
       "      <td>23.9</td>\n",
       "      <td>1.7</td>\n",
       "    </tr>\n",
       "    <tr>\n",
       "      <th>4</th>\n",
       "      <td>25</td>\n",
       "      <td>Male</td>\n",
       "      <td>IT</td>\n",
       "      <td>3.0</td>\n",
       "      <td>Telegram</td>\n",
       "      <td>66</td>\n",
       "      <td>6.2</td>\n",
       "      <td>8.9</td>\n",
       "      <td>5.0</td>\n",
       "      <td>7.0</td>\n",
       "      <td>5.4</td>\n",
       "      <td>1.9</td>\n",
       "      <td>1</td>\n",
       "      <td>False</td>\n",
       "      <td>True</td>\n",
       "      <td>1</td>\n",
       "      <td>30</td>\n",
       "      <td>10.7</td>\n",
       "      <td>9.7</td>\n",
       "    </tr>\n",
       "  </tbody>\n",
       "</table>\n",
       "</div>"
      ],
      "text/plain": [
       "   age  gender    job_type  daily_social_media_time  \\\n",
       "0   56    Male  Unemployed                      4.2   \n",
       "1   46    Male      Health                      3.2   \n",
       "2   32    Male     Finance                      3.0   \n",
       "3   60  Female  Unemployed                      3.0   \n",
       "4   25    Male          IT                      3.0   \n",
       "\n",
       "  social_platform_preference  number_of_notifications  work_hours_per_day  \\\n",
       "0                   Facebook                       61                 6.8   \n",
       "1                    Twitter                       59                 9.2   \n",
       "2                    Twitter                       57                 7.9   \n",
       "3                   Facebook                       59                 6.4   \n",
       "4                   Telegram                       66                 6.2   \n",
       "\n",
       "   perceived_productivity_score  actual_productivity_score  stress_level  \\\n",
       "0                           8.0                        7.3           4.0   \n",
       "1                           5.1                        5.2           7.0   \n",
       "2                           3.9                        3.5           4.0   \n",
       "3                           2.9                        1.8           6.0   \n",
       "4                           8.9                        5.0           7.0   \n",
       "\n",
       "   sleep_hours  screen_time_before_sleep  breaks_during_work  uses_focus_apps  \\\n",
       "0          5.1                       0.4                   8            False   \n",
       "1          5.1                       0.7                   7             True   \n",
       "2          8.6                       0.6                   0             True   \n",
       "3          6.1                       1.2                   1            False   \n",
       "4          5.4                       1.9                   1            False   \n",
       "\n",
       "   has_digital_wellbeing_enabled  coffee_consumption_per_day  \\\n",
       "0                          False                           4   \n",
       "1                           True                           2   \n",
       "2                          False                           3   \n",
       "3                          False                           0   \n",
       "4                           True                           1   \n",
       "\n",
       "   days_feeling_burnout_per_month  weekly_offline_hours  \\\n",
       "0                              11                  21.9   \n",
       "1                              25                   0.0   \n",
       "2                              17                  10.3   \n",
       "3                               4                  23.9   \n",
       "4                              30                  10.7   \n",
       "\n",
       "   job_satisfaction_score  \n",
       "0                     6.3  \n",
       "1                     3.4  \n",
       "2                     2.5  \n",
       "3                     1.7  \n",
       "4                     9.7  "
      ]
     },
     "execution_count": 103,
     "metadata": {},
     "output_type": "execute_result"
    }
   ],
   "source": [
    "df.head()"
   ]
  },
  {
   "cell_type": "code",
   "execution_count": 96,
   "id": "e9afe340",
   "metadata": {},
   "outputs": [],
   "source": [
    "# Análises que podem ser feitas:\n",
    "# 1. Análise de correlação entre o uso de redes sociais e a produtividade.\n",
    "# 2. Comparação de produtividade entre diferentes grupos etários e de gênero.\n",
    "# 3. Apps mais danosos para o sono e estresse.\n",
    "# 4. Aplicativos que mais enviam notificações e seu impacto na produtividade.\n",
    "# 5. Impacto dos apps de bem-estar digital na produtividade.\n",
    "# 6. Comparação de produtividade entre usuários frequentes e ocasionais de redes sociais.\n",
    "# 7. Análise de como o uso de redes sociais afeta a produtividade em diferentes setores.\n",
    "# 8. Impacto das redes sociais no score de satisfação no trabalho.\n",
    "# 9. Relação entre o tempo gasto em redes sociais, o consumo de café e a ocorrencia de burnout."
   ]
  },
  {
   "cell_type": "code",
   "execution_count": 97,
   "id": "fb38981f",
   "metadata": {},
   "outputs": [
    {
     "name": "stdout",
     "output_type": "stream",
     "text": [
      "Porcentagem de dados faltantes (%):\n",
      " age                               0.00\n",
      "gender                            0.00\n",
      "job_type                          0.00\n",
      "daily_social_media_time           9.22\n",
      "social_platform_preference        0.00\n",
      "number_of_notifications           0.00\n",
      "work_hours_per_day                0.00\n",
      "perceived_productivity_score      5.38\n",
      "actual_productivity_score         7.88\n",
      "stress_level                      6.35\n",
      "sleep_hours                       8.66\n",
      "screen_time_before_sleep          7.37\n",
      "breaks_during_work                0.00\n",
      "uses_focus_apps                   0.00\n",
      "has_digital_wellbeing_enabled     0.00\n",
      "coffee_consumption_per_day        0.00\n",
      "days_feeling_burnout_per_month    0.00\n",
      "weekly_offline_hours              0.00\n",
      "job_satisfaction_score            9.10\n"
     ]
    }
   ],
   "source": [
    "# Tratamento de dados\n",
    "# Porcentagem de dados faltantes\n",
    "missing_percentage = df.isnull().mean() * 100\n",
    "print(\"Porcentagem de dados faltantes (%):\\n\", missing_percentage.round(2).to_string())\n"
   ]
  },
  {
   "cell_type": "code",
   "execution_count": 98,
   "id": "ebe4305f",
   "metadata": {},
   "outputs": [
    {
     "data": {
      "text/plain": [
       "age                               0\n",
       "gender                            0\n",
       "job_type                          0\n",
       "daily_social_media_time           0\n",
       "social_platform_preference        0\n",
       "number_of_notifications           0\n",
       "work_hours_per_day                0\n",
       "perceived_productivity_score      0\n",
       "actual_productivity_score         0\n",
       "stress_level                      0\n",
       "sleep_hours                       0\n",
       "screen_time_before_sleep          0\n",
       "breaks_during_work                0\n",
       "uses_focus_apps                   0\n",
       "has_digital_wellbeing_enabled     0\n",
       "coffee_consumption_per_day        0\n",
       "days_feeling_burnout_per_month    0\n",
       "weekly_offline_hours              0\n",
       "job_satisfaction_score            0\n",
       "dtype: int64"
      ]
     },
     "execution_count": 98,
     "metadata": {},
     "output_type": "execute_result"
    }
   ],
   "source": [
    "# Tratamento de dados faltantes \n",
    "numerical_columns = df.select_dtypes(include=['float64', 'int64']).columns\n",
    "for col in numerical_columns:\n",
    "    df[col] = df[col].fillna(df[col].median())\n",
    "    \n",
    "df.isnull().sum()"
   ]
  },
  {
   "cell_type": "code",
   "execution_count": 99,
   "id": "54f62c8f",
   "metadata": {},
   "outputs": [
    {
     "name": "stdout",
     "output_type": "stream",
     "text": [
      "Valores únicos na coluna 'gender': ['Male' 'Female' 'Other']\n",
      "\n",
      "Valores únicos na coluna 'job_type': ['Unemployed' 'Health' 'Finance' 'IT' 'Education' 'Student']\n",
      "\n",
      "Valores únicos na coluna 'social_platform_preference': ['Facebook' 'Twitter' 'Telegram' 'TikTok' 'Instagram']\n",
      "\n"
     ]
    }
   ],
   "source": [
    "# Verificar valores únicos em colunas categóricas\n",
    "categorical_columns = df.select_dtypes(include=['object']).columns\n",
    "for column in categorical_columns:\n",
    "    unique_values = df[column].unique()\n",
    "    print(f\"Valores únicos na coluna '{column}': {unique_values}\\n\")"
   ]
  },
  {
   "cell_type": "code",
   "execution_count": 100,
   "id": "86864e2b",
   "metadata": {},
   "outputs": [],
   "source": [
    "# Arredondar valores numéricos para 1 casa decimal\n",
    "df[numerical_columns] = df[numerical_columns].round(1)\n"
   ]
  },
  {
   "cell_type": "code",
   "execution_count": 101,
   "id": "e6841a83",
   "metadata": {},
   "outputs": [],
   "source": [
    "import matplotlib.pyplot as plt\n",
    "import seaborn as sns\n",
    "# Configurações do seaborn\n",
    "sns.set(style=\"whitegrid\")"
   ]
  },
  {
   "cell_type": "code",
   "execution_count": 102,
   "id": "d8a40fb3",
   "metadata": {},
   "outputs": [
    {
     "data": {
      "text/plain": [
       "<Figure size 1000x600 with 0 Axes>"
      ]
     },
     "execution_count": 102,
     "metadata": {},
     "output_type": "execute_result"
    },
    {
     "data": {
      "text/plain": [
       "<Figure size 1000x600 with 0 Axes>"
      ]
     },
     "metadata": {},
     "output_type": "display_data"
    }
   ],
   "source": [
    "#1. Análise de correlação entre o uso de redes sociais e a produtividade.\n",
    "plt.figure(figsize=(10, 6))\n"
   ]
  }
 ],
 "metadata": {
  "kernelspec": {
   "display_name": ".venv",
   "language": "python",
   "name": "python3"
  },
  "language_info": {
   "codemirror_mode": {
    "name": "ipython",
    "version": 3
   },
   "file_extension": ".py",
   "mimetype": "text/x-python",
   "name": "python",
   "nbconvert_exporter": "python",
   "pygments_lexer": "ipython3",
   "version": "3.9.6"
  }
 },
 "nbformat": 4,
 "nbformat_minor": 5
}
